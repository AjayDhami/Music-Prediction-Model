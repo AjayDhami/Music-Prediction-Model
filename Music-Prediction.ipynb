{
 "cells": [
  {
   "cell_type": "markdown",
   "id": "44d15447",
   "metadata": {},
   "source": [
    "# Prediction model with accuracy"
   ]
  },
  {
   "cell_type": "code",
   "execution_count": 8,
   "id": "df5c21a2",
   "metadata": {},
   "outputs": [
    {
     "data": {
      "text/plain": [
       "1.0"
      ]
     },
     "execution_count": 8,
     "metadata": {},
     "output_type": "execute_result"
    }
   ],
   "source": [
    "import pandas as pd\n",
    "from sklearn.tree import DecisionTreeClassifier\n",
    "from sklearn.model_selection import train_test_split\n",
    "from sklearn.metrics import accuracy_score\n",
    "\n",
    "music_data = pd.read_csv('music_dataset.csv')\n",
    "X = music_data.drop(columns=['genre']) # X is input dataset\n",
    "y = music_data['genre'] # y is output dataset\n",
    "X_train, X_test, y_train, y_test = train_test_split(X, y, test_size=0.2) # Allocating 20% of data for testing\n",
    "\n",
    "\n",
    "model = DecisionTreeClassifier()\n",
    "model.fit(X_train, y_train) # Training the model\n",
    "predictions = model.predict(X_test)\n",
    "\n",
    "score = accuracy_score(y_test, predictions)\n",
    "score"
   ]
  },
  {
   "cell_type": "markdown",
   "id": "648b0932",
   "metadata": {},
   "source": [
    "# Persisting Model"
   ]
  },
  {
   "cell_type": "code",
   "execution_count": 9,
   "id": "e5b132c3",
   "metadata": {},
   "outputs": [
    {
     "data": {
      "text/plain": [
       "['music-recommender-model.joblib']"
      ]
     },
     "execution_count": 9,
     "metadata": {},
     "output_type": "execute_result"
    }
   ],
   "source": [
    "import pandas as pd\n",
    "from sklearn.tree import DecisionTreeClassifier\n",
    "import joblib\n",
    "\n",
    "music_data = pd.read_csv('music_dataset.csv')\n",
    "X = music_data.drop(columns=['genre']) \n",
    "y = music_data['genre']\n",
    "\n",
    "model = DecisionTreeClassifier()\n",
    "model.fit(X.values, y)\n",
    "\n",
    "joblib.dump(model, 'music-recommender-model.joblib')"
   ]
  },
  {
   "cell_type": "markdown",
   "id": "7a20a6ca",
   "metadata": {},
   "source": [
    "# Predicting by loading model file"
   ]
  },
  {
   "cell_type": "code",
   "execution_count": 10,
   "id": "a678bd1f",
   "metadata": {},
   "outputs": [
    {
     "data": {
      "text/plain": [
       "array(['HipHop'], dtype=object)"
      ]
     },
     "execution_count": 10,
     "metadata": {},
     "output_type": "execute_result"
    }
   ],
   "source": [
    "model = joblib.load('music-recommender-model.joblib')\n",
    "\n",
    "predictions = model.predict([ [21, 1] ])\n",
    "predictions"
   ]
  },
  {
   "cell_type": "markdown",
   "id": "f3655821",
   "metadata": {},
   "source": [
    "# Visualizing a Decision Tree"
   ]
  },
  {
   "cell_type": "code",
   "execution_count": 11,
   "id": "cdf95877",
   "metadata": {},
   "outputs": [],
   "source": [
    "from sklearn import tree\n",
    "\n",
    "tree.export_graphviz(model, \n",
    "                     out_file = 'music_recommender_graph.dot', \n",
    "                     feature_names = ['age', 'gender'], \n",
    "                     class_names = sorted(y.unique()), \n",
    "                     rounded = True, \n",
    "                     filled= True\n",
    "                    )"
   ]
  }
 ],
 "metadata": {
  "kernelspec": {
   "display_name": "Python 3 (ipykernel)",
   "language": "python",
   "name": "python3"
  },
  "language_info": {
   "codemirror_mode": {
    "name": "ipython",
    "version": 3
   },
   "file_extension": ".py",
   "mimetype": "text/x-python",
   "name": "python",
   "nbconvert_exporter": "python",
   "pygments_lexer": "ipython3",
   "version": "3.11.5"
  }
 },
 "nbformat": 4,
 "nbformat_minor": 5
}
